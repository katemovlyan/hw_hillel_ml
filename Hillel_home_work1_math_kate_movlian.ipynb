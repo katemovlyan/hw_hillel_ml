{
  "nbformat": 4,
  "nbformat_minor": 0,
  "metadata": {
    "colab": {
      "provenance": [],
      "include_colab_link": true
    },
    "kernelspec": {
      "name": "python3",
      "display_name": "Python 3"
    }
  },
  "cells": [
    {
      "cell_type": "markdown",
      "metadata": {
        "id": "view-in-github",
        "colab_type": "text"
      },
      "source": [
        "<a href=\"https://colab.research.google.com/github/katemovlyan/hw_hillel_ml/blob/main/Hillel_home_work1_math_kate_movlian.ipynb\" target=\"_parent\"><img src=\"https://colab.research.google.com/assets/colab-badge.svg\" alt=\"Open In Colab\"/></a>"
      ]
    },
    {
      "cell_type": "markdown",
      "metadata": {
        "id": "Jljh24fIXE2M"
      },
      "source": [
        "## Лабораторная работа 1. **MATH** ➕➗✖️"
      ]
    },
    {
      "cell_type": "code",
      "metadata": {
        "id": "BmNCrpTVSigp"
      },
      "source": [
        "import numpy as np\n",
        "import matplotlib.pyplot as plt"
      ],
      "execution_count": null,
      "outputs": []
    },
    {
      "cell_type": "markdown",
      "metadata": {
        "id": "kvCvknKNXF3z"
      },
      "source": [
        "## Часть 1. Математический анализ и Оптимизация. 📈\n",
        "\n",
        "В этом разделе Вам будет предложенно решить несколько теоретических и практических задач. Некоторые задачи этого раздела, подразумевают написание кода с использование библиотек [```numpy```](https://numpy.org/doc/stable/) и [```scipy```](https://docs.scipy.org/doc/scipy/reference/).   Решение каждой задачи подразумевает аккуратное оформление теоретических решений. Оформление должно производиться в текстовых ячейках ноутбука с использованием синтаксиса [LaTeX](https://en.wikibooks.org/wiki/LaTeX/Basics) для оформления формул. Также часть задний подразумевает написание кода🐍. Математика имплементированная в код, обычно, плохо читаема. Снабжайте свой код дополнительными коментариями, по мере необходимости🧐. Оцениваться будет: корректность решения, строгость выкладок, аргументированность, использование математических идей и подходов. Только **ответы** будут оценнены в **0** балов, даже если они правильные.\n",
        "\n",
        "\n",
        "\n",
        "**Перед отправкой решений на проверку, добавьте в название файла свое имя и фамилию.**\n",
        "\n",
        "Пример: ``` Hillel_home_work1_math_philipp_kofman.ipynb```\n",
        "\n",
        "Суммарно в домашней работы представленно заданий на **98** баллов. Для получения 100 баллов за домашнюю работу достаточно набрать 30.  \n",
        "\n",
        "Если вы нашли грамматические или любые другие ошибки - сообщите мне о них в приватных сообщениях 😇"
      ]
    },
    {
      "cell_type": "markdown",
      "metadata": {
        "id": "ZGYFN3yuXF7J"
      },
      "source": [
        "**Задача 1.** Найдите [производные](https://ru.wikipedia.org/wiki/%D0%9F%D1%80%D0%BE%D0%B8%D0%B7%D0%B2%D0%BE%D0%B4%D0%BD%D0%B0%D1%8F_%D1%84%D1%83%D0%BD%D0%BA%D1%86%D0%B8%D0%B8) следующих функций:\n",
        "1.   $ f(x) = \\frac{1}{x^3}$\n",
        "2.   $ f(x) = \\frac{e^x}{x^2} + 3x^2 - 4x +8$\n",
        "3.   $ f(x) = \\sqrt{x} \\cdot 2^{sin(x)}$\n",
        "4.   $ f(x) = \\frac{cos(x^2)}{x}$\n",
        "5.   $ f(x) = log_{2}(tg(x))$\n",
        "6.   $ f(x) = e^{-x^{2}}$\n",
        "7.   $ f(x) = e^{x} + e^{e^{x}} + e^{e \\cdot e^{x}}$\n",
        "8.   $ f(x) = ln(ln(ln(x)))$\n",
        "9.   $ f(x) = log_{x}(e)$\n",
        "10.   $ f(x) = (\\frac{a}{b})^{x} \\cdot (\\frac{a}{x})^{b} \\cdot (\\frac{x}{b})^{a}  \\ \\ \\ a, b > 0$\n",
        "\n",
        "Решение каждого примера оценивается в [1 бал].\n",
        "\n",
        "\n",
        "\n",
        "\n",
        "\n"
      ]
    },
    {
      "cell_type": "markdown",
      "metadata": {
        "id": "bg0l6v2FXF-i"
      },
      "source": [
        "**your solution**\n",
        "1.   $ f'(x) = (x^-3)' = -\\frac{3}{x^4}$\n",
        "2.   $ f'(x) = \\frac{e^xx^2-2xe^x}{x^4} + 6x - 4 = \\frac{e^x(x-2)}{x^3} + 6x - 4$\n",
        "3.   $ f'(x) = \\sqrt{x} \\cdot 2^{\\sin(x)} = \\frac{2^{\\sin(x)}}{2\\sqrt{x}} + \\sqrt{x} \\cdot 2^{\\sin(x)}\\ln(2) \\cdot \\cos(x) = \\frac{1 + 2x\\ln(2)\\cos(x)}{2\\sqrt{x}} \\cdot 2^{\\sin(x)}$\n",
        "4.   $ f'(x) = \\frac{-\\sin(x^2) \\cdot 2x^2 - \\cos(x^2)}{x^2} = -2\\sin(x^2) - \\frac{\\cos(x^2)}{x^2}$\n",
        "5.   $ f'(x) = \\log_{2}(\\tan(x)) = \\frac{\\tan'(x)}{\\tan(x)\\ln(2)} = \\frac{1}{\\tan(x)\\ln(2)\\cos^2(x)} = \\frac{1}{\\ln(2)\\sin(x)\\cos(x)} = \\frac{2}{\\ln(2)\\sin(2x)}$\n",
        "6.   $ f'(x) = e^{-x^{2}} \\cdot (-2x) = -2xe^{-x^{2}}$\n",
        "7.   $ f'(x) = e^{x} + e^{e^{x}} \\cdot e^{x} + e^{e^{x+1}} \\cdot e^{x+1} = e^{x}(1 + e^{e^{x}} + e^{1 + e^{x+1}})$\n",
        "8.   $ f'(x) = \\frac{\\ln(\\ln(x))'}{\\ln(\\ln(x))} = \\frac{\\ln(x)'}{\\ln(x) \\cdot \\ln(\\ln(x))} = \\frac{1}{x \\cdot \\ln(x) \\cdot \\ln(\\ln(x)}$\n",
        "9.   $ f'(x) = \\log_{x}(e)' = \\frac{\\ln(e)}{\\ln(x)}' = -1 \\cdot \\frac{\\ln(x)'}{\\ln^2(x)} = -\\frac{1}{x\\ln^2(x)}$\n",
        "10.   $ f(x) = (\\frac{a}{b})^{x} \\cdot (\\frac{a}{x})^{b} \\cdot (\\frac{x}{b})^a = \\frac{a^b}{b^a} \\cdot \\frac{a^x \\cdot x^a}{b^x \\cdot x^b} = \\frac{a^b}{b^a} \\cdot x^{a-b} \\cdot (\\frac{a}{b})^x$\n",
        "$ f'(x) = \\frac{a^b}{b^a} \\cdot ((a-b)x^{a-b-1} \\cdot (\\frac{a}{b})^x + x^{a-b} \\cdot (\\frac{a}{b})^x \\cdot \\ln(\\frac{a}{b})) = \\frac{a^b}{b^a} \\cdot (\\frac{a}{b})^x \\cdot x^{a-b} \\cdot (\\frac{a-b}{x} + \\ln(\\frac{a}{b})) = (\\frac{a}{b})^x \\cdot (\\frac{a}{x})^{b} \\cdot (\\frac{x}{b})^a \\cdot (\\frac{a-b}{x} + \\ln(\\frac{a}{b}))$"
      ]
    },
    {
      "cell_type": "markdown",
      "metadata": {
        "id": "yEkgAybxXGBO"
      },
      "source": [
        "**Задача 2.** Найдите [производные](https://ru.wikipedia.org/wiki/%D0%9F%D1%80%D0%BE%D0%B8%D0%B7%D0%B2%D0%BE%D0%B4%D0%BD%D0%B0%D1%8F_%D1%84%D1%83%D0%BD%D0%BA%D1%86%D0%B8%D0%B8) следующих функций:\n",
        "1.   $ f(x) = x^{cos(x)}$\n",
        "2.   $ f(x) = x^{x^x}$\n",
        "3.   $ f(x) = (x - a_1)^{a_1} \\cdot (x - a_2)^{a_2} \\cdot ... \\cdot (x - a_n)^{a_n}$\n",
        "4.   $ f(x) = cos(x) \\cdot cos(2x) \\cdot cos(4x) \\cdot ... \\cdot cos(2^{n}x) = \\prod_{i=0}^{n}cos(2^{i}x)$\n",
        "\n",
        "\n",
        "Решение каждого примера оценивается в [2 бал].\n"
      ]
    },
    {
      "cell_type": "markdown",
      "metadata": {
        "id": "0heE_wxke1ha"
      },
      "source": [
        "**your solution**\n",
        "1.   $ f'(x) = (e^{\\ln(x^{\\cos(x)})})' = (e^{\\cos(x)\\ln(x)})'  = e^{\\cos(x)\\ln(x)} \\cdot (-\\sin(x)\\ln(x) + \\frac{\\cos(x)}{x}) = x^{\\cos(x)-1}(\\cos(x) - x\\sin(x)\\ln(x))$\n",
        "2.   $ f'(x) = x^{x^x} = (e^{\\ln(x^{x^x})})' = (e^{x^x \\cdot \\ln(x)})' = e^{x^x \\cdot \\ln(x)} \\cdot (x^x \\cdot \\ln(x))' = e^{x^x \\cdot \\ln(x)} \\cdot ((x^x)'\\ln(x) + x^{x-1}) = x^{x^x} \\cdot (x^x(\\ln(x) + 1)\\ln(x) + x^{x-1}) = x^{x^x+x} \\cdot (\\ln^2(x) + \\ln(x) + \\frac{1}{x})$\n",
        "3.   $ f'(x) = a_1(x - a_1)^{a_1 - 1} \\cdot (x - a_2)^{a_2} \\cdot ... \\cdot (x - a_n)^{a_n} + a_2(x - a_1)^{a_1} \\cdot (x - a_2)^{a_2-1} \\cdot ... \\cdot (x - a_n)^{a_n} + ... + a_n(x - a_1)^{a_1} \\cdot (x - a_2)^{a_2} \\cdot ... \\cdot (x - a_n)^{a_n - 1} = f(x) (\\frac{a_1}{x - a_1} + \\frac{a_2}{x - a_2} + ... + \\frac{a_n}{x - a_n})$\n",
        "$(abc)' = a'bc+a(bc)' = a'bc + ab'c + abc'$\n",
        "4.   $ f'(x) = -\\sin(x) \\cdot \\cos(2x) \\cdot \\cos(4x) \\cdot ... \\cdot \\cos(2^{n}x) - 2\\cos(x) \\cdot \\sin(2x) \\cdot \\cos(4x) \\cdot ... \\cdot \\cos(2^{n}x) - 2^{n}\\cos(x) \\cdot \\cos(2x) \\cdot \\cos(4x) \\cdot ... \\cdot \\sin(2^{n}x) = -(\\tan(x) + 2\\tan(2x) + 2^n\\tan(2^nx))\\prod_{i=0}^{n}cos(2^{i}x)$"
      ]
    },
    {
      "cell_type": "markdown",
      "metadata": {
        "id": "tw1JqVaJhOnV"
      },
      "source": [
        "**Задача 3.** Найдите [производные](https://ru.wikipedia.org/wiki/%D0%9F%D1%80%D0%BE%D0%B8%D0%B7%D0%B2%D0%BE%D0%B4%D0%BD%D0%B0%D1%8F_%D1%84%D1%83%D0%BD%D0%BA%D1%86%D0%B8%D0%B8) следующих функций заданных в [неявном виде](http://mathprofi.ru/proizvodnye_neyavnoi_parametricheskoi_funkcii.html):\n",
        "\n",
        "1.   $ x(t) = sin(t) + 3t; \\ \\ \\ \\ y(t) = 2cos(2t) - 4$\n",
        "\n",
        "2.   [Круг](https://ru.wikipedia.org/wiki/%D0%9A%D1%80%D1%83%D0%B3): $ x^2 + y^2 = 1 $\n",
        "3.   [Элипс](https://ru.wikipedia.org/wiki/%D0%AD%D0%BB%D0%BB%D0%B8%D0%BF%D1%81): $ x^2 + 3xy + y^2 = 1 $\n",
        "4.   [Астроида](https://ru.wikipedia.org/wiki/%D0%90%D1%81%D1%82%D1%80%D0%BE%D0%B8%D0%B4%D0%B0): $ x^{\\frac{2}{3}} + y^{\\frac{2}{3}} = a^{\\frac{2}{3}}$\n",
        "\n",
        "\n",
        "\n",
        "Решение каждого примера оценивается в [2 бал].\n",
        "\n",
        "Решением считается функция вида: $ \\frac{dy}{dx} $"
      ]
    },
    {
      "cell_type": "markdown",
      "metadata": {
        "id": "ATedKYo_jrqQ"
      },
      "source": [
        "**your solution**\n",
        "1. $x(t) = sin(t) + 3t; \\ \\ \\ \\ y(t) = 2cos(2t) - 4$\n",
        "\n",
        "  $\\frac{dx}{dt} = \\cos(t) + 3; \\ \\ \\ \\ \\frac{dy}{dt} = -4\\sin(2t); \\ \\ \\ \\ \\frac{dy}{dx} = \\frac{-4\\sin(2t)}{\\cos(t) + 3}$\n",
        "\n",
        "2. $ x^2 + y^2 = 1 $\n",
        "\n",
        "  $ 2x + 2yy' = 0; \\ \\ \\ \\ y' = -\\frac{x}{y} $\n",
        "3. $ x^2 + 3xy + y^2 = 1 $\n",
        "  \n",
        "  $2x + 3y + 3xy' + 2yy'= 0; \\ \\ \\ \\ y' = \\frac{2x+3y}{3x+2y} $\n",
        "4. $ x^{\\frac{2}{3}} + y^{\\frac{2}{3}} = a^{\\frac{2}{3}}$\n",
        "\n",
        "  $ \\frac{2}{3}x^{\\frac{-1}{3}} + \\frac{2}{3}y^{\\frac{-1}{3}}y' = 0; \\ \\ \\ \\ y' = -\\frac{x^{\\frac{-1}{3}}}{y^{\\frac{-1}{3}}} = -(\\frac{y}{x})^{\\frac{1}{3}}$"
      ]
    },
    {
      "cell_type": "markdown",
      "metadata": {
        "id": "8qE_3R5uw01p"
      },
      "source": [
        "\n",
        "**Задача 4.**  Найдите уравнение касательной к функции $ f(x) $ в точках $ M_{i}(x, y) $. Нарисуйте график функции и касательных к нему, для визуализации воспользуйтесь библиотекой [matplotlib](https://matplotlib.org/).\n",
        "\n",
        "$ f(x) = (x + 1) \\cdot \\sqrt{3 - x} \\\\  M_{0}(-1, 0), \\ \\  M_{1}(2, 3), \\ \\  M_{2}(3, 0)$\n",
        "\n",
        "Решение примера оценивается в [2 бала].\n",
        "\n"
      ]
    },
    {
      "cell_type": "markdown",
      "metadata": {
        "id": "2_wEluscx2uP"
      },
      "source": [
        "**your solution**\n",
        "\n",
        "$ f' = \\sqrt{3-x} - \\frac{x + 1}{2\\sqrt{3-x}} = \\frac{6-2x-x-1}{2\\sqrt{3-x}} = \\frac{5-3x}{2\\sqrt{3-x}}$\n",
        "\n",
        "$ y(M_0) = 2(x+1)+0 = 2x+2; \\ \\ \\ \\ y(M_1) = -\\frac{1}{2}(x-2)+3 = -\\frac{1}{2}x+4;$\n",
        "\n",
        "$ f' = \\tan(\\alpha)\\rightarrow-\\infty \\ \\ \\ \\ x(M_3) = 3$"
      ]
    },
    {
      "cell_type": "code",
      "metadata": {
        "id": "LpDkWqdd-DnH",
        "colab": {
          "base_uri": "https://localhost:8080/",
          "height": 296
        },
        "outputId": "bf6e7f09-1ec4-411a-81d9-a29d77ca1430"
      },
      "source": [
        "#code\n",
        "import matplotlib.pyplot as plt\n",
        "import numpy as np\n",
        "\n",
        "x = np.arange(-1.1, 3, 0.01)\n",
        "f = (x+1)*np.sqrt(3-x)\n",
        "y1 = 2*x+2\n",
        "y2 = -0.5*x+4\n",
        "\n",
        "fig, ax = plt.subplots()\n",
        "ax.plot(x, f)\n",
        "ax.plot(x, y1)\n",
        "ax.plot(x, y2)\n",
        "plt.axvline(x=3, color='y')\n",
        "\n",
        "ax.set(xlabel='x', ylabel='f(x)')"
      ],
      "execution_count": null,
      "outputs": [
        {
          "output_type": "execute_result",
          "data": {
            "text/plain": [
              "[Text(0, 0.5, 'f(x)'), Text(0.5, 0, 'x')]"
            ]
          },
          "metadata": {},
          "execution_count": 36
        },
        {
          "output_type": "display_data",
          "data": {
            "image/png": "[encoded data removed]",
            "text/plain": [
              "<Figure size 432x288 with 1 Axes>"
            ]
          },
          "metadata": {
            "needs_background": "light"
          }
        }
      ]
    },
    {
      "cell_type": "markdown",
      "metadata": {
        "id": "7BmmWtQWzGfb"
      },
      "source": [
        "**Задача 5.** Найдите минимум функции на отрезке. Постройте графики функций и убедитесь, что вы нашли правильные точки. Для решения этой задачи воспользуйтесь [аналитическим методом](http://kontromat.ru/?page_id=888).\n",
        "\n",
        "\n",
        "\n",
        "1.   $ f(x) = 3x^2 - 2 - x^3; \\ \\ \\ отрезок \\ - \\ [-1, 2\\frac{1}{2}] $\n",
        "2.   $ f(x) = x^2(x-2)^2; \\ \\ \\ отрезок \\ - \\ [-\\frac{1}{2}, 2\\frac{1}{2}]$\n",
        "\n",
        "Решение каждого примера оценивается в [2 бала].\n"
      ]
    },
    {
      "cell_type": "markdown",
      "metadata": {
        "id": "Kbttq71ezffn"
      },
      "source": [
        "**your solution**\n",
        "\n",
        "1.   $f' = 6x-3x^2 = 0; \\ \\ \\ \\ x=0, x=2$\n",
        "\n",
        "  $ f(-1) = 2, \\ \\ \\ \\ f(0) = -2 = min, \\ \\ \\ \\ f(2) = 2, \\ \\ \\ \\ f(\\frac{5}{2}) = \\frac{75}{4} - 2 - \\frac{125}{8} = \\frac{150-16-125}{8} = 1\\frac{1}{8}$\n",
        "2.   $f'= 2x(x-2)^2 + 2x^2(x-2) = 4x(x-2)(x-1) = 0; \\ \\ \\ \\ x=0, x=1, x=2$\n",
        "\n",
        "  $ f(-\\frac{1}{2}) = \\frac{25}{16}, f(0) = 0 = min, f(1) = 1, f(2) = 0 = min, f(\\frac{5}{2}) = \\frac{25}{16}$"
      ]
    },
    {
      "cell_type": "code",
      "metadata": {
        "id": "qmV_vZ8m-PFy",
        "colab": {
          "base_uri": "https://localhost:8080/",
          "height": 558
        },
        "outputId": "0d7208a3-8d8c-40a2-fa42-bad99c3eebbf"
      },
      "source": [
        "#code\n",
        "import matplotlib.pyplot as plt\n",
        "import numpy as np\n",
        "\n",
        "x1 = np.arange(-1, 2.5, 0.01)\n",
        "f1 = 3*np.power(x1, 2)-2-np.power(x1, 3)\n",
        "\n",
        "fig, ax = plt.subplots()\n",
        "ax.plot(x1, f1)\n",
        "ax.set(xlabel='x', ylabel='f(x)')\n",
        "\n",
        "x2 = np.arange(-0.5, 2.5, 0.01)\n",
        "f2 = np.power(x2, 2)*np.power(x2-2, 2)\n",
        "\n",
        "fig, ax = plt.subplots()\n",
        "ax.plot(x2, f2)\n",
        "ax.set(xlabel='x', ylabel='f(x)')"
      ],
      "execution_count": null,
      "outputs": [
        {
          "output_type": "execute_result",
          "data": {
            "text/plain": [
              "[Text(0, 0.5, 'f(x)'), Text(0.5, 0, 'x')]"
            ]
          },
          "metadata": {},
          "execution_count": 23
        },
        {
          "output_type": "display_data",
          "data": {
            "image/png": "[encoded data removed]",
            "text/plain": [
              "<Figure size 432x288 with 1 Axes>"
            ]
          },
          "metadata": {
            "needs_background": "light"
          }
        },
        {
          "output_type": "display_data",
          "data": {
            "image/png": "[encoded data removed]",
            "text/plain": [
              "<Figure size 432x288 with 1 Axes>"
            ]
          },
          "metadata": {
            "needs_background": "light"
          }
        }
      ]
    },
    {
      "cell_type": "markdown",
      "metadata": {
        "id": "DLBzemqc5GGW"
      },
      "source": [
        "**Задача 6.** Задана [пирамида](https://ru.wikipedia.org/wiki/%D0%9F%D0%B8%D1%80%D0%B0%D0%BC%D0%B8%D0%B4%D0%B0_(%D0%B3%D0%B5%D0%BE%D0%BC%D0%B5%D1%82%D1%80%D0%B8%D1%8F) - ```ABCDE``` с квадратным основанием ```ABCD```. В эту пирамиду вертикально вставляется [цилиндр](https://ru.wikipedia.org/wiki/%D0%A6%D0%B8%D0%BB%D0%B8%D0%BD%D0%B4%D1%80). Вписывается  цилиндр следующим образом: нижнее основание цилиндра должно лежать в плоскости основания пирамиды ```ABCD```. Нижний край цилиндра должен касаться основания ```CB```. Стороны цилиндра перпендикулярны основанию. Какого **максимального объема** цилиндр, можно вписать в пирамиду? Какой у этого цилиндра будет **радиус**?\n",
        "\n",
        "Координаты: ```A(0, 3, 0)```, ```B(0, 0, 0)```, ```C(3, 0, 0)```, ```D(3, 3, 0)```, ```E(1.5, -3, 3)```\n",
        "\n",
        "Что бы лучше понять условие [нарисуйте его](https://www.geogebra.org/3d?lang=en)🤯. Сопроводите свое решение [визуализациями](https://stackoverflow.com/questions/26989131/add-cylinder-to-plot), если это будет нужно.\n",
        "\n",
        "\n",
        "\n",
        "**[подсказка]** Для решения задачи запишите фунцию объема цилиндра.\n",
        "\n",
        "Решение задачи оценивается в [3 бала]."
      ]
    },
    {
      "cell_type": "markdown",
      "metadata": {
        "id": "zsH-9Rib7Frk"
      },
      "source": [
        "**your solution**\n",
        "a - сторона ABCD, a=3\n",
        "r - радиус основания цилиндра\n",
        "h - высота цилиндра\n",
        "Цилиндр касается BC в точке K(1.5, 0, 0) из симметрии. Цилиндр касается высоты EL равнобедренного треугольника AED в точке M.\n",
        "\n",
        "$\\tan(\\angle ELK) = \\frac{1}{2}$\n",
        "Высота цилиндра равна расстоянию от основания до точки M: $\\frac{h}{a-2r} = \\frac{1}{2}$\n",
        "\n",
        "$V = \\pi h r^2 = \\pi \\frac{a-2r}{2}r^2$\n",
        "\n",
        "$V' = \\pi ar - 3\\pi r^2 = 0, a = 3r$\n",
        "\n",
        "$ r = 1, V = \\frac{\\pi}{2} $"
      ]
    },
    {
      "cell_type": "markdown",
      "metadata": {
        "id": "y9N_efgr7Fui"
      },
      "source": [
        "**Задача 7.** Найдите минимум функции ```f(x)``` на отрезке ```[0, 4]```.\n",
        "\n",
        "$ f(x) = \\int_{x}^{x + \\frac{1}{2}}cos(\\frac{t^2}{3})dt $\n",
        "\n",
        "**[подсказка]** Для решения проанализируйте аналитически под-интегральную функцию. Для расчетов интеграла воспользуйтесь [численным методом](https://ru.wikipedia.org/wiki/%D0%A7%D0%B8%D1%81%D0%BB%D0%B5%D0%BD%D0%BD%D0%BE%D0%B5_%D0%B8%D0%BD%D1%82%D0%B5%D0%B3%D1%80%D0%B8%D1%80%D0%BE%D0%B2%D0%B0%D0%BD%D0%B8%D0%B5) на ваш выбор. При решении руководствуйтесь [геометрическим смыслом](http://www.znannya.org/?view=geom-fiz-smisl-opred-integrala) интеграла.\n",
        "\n",
        "Решение задачи оценивается в [3 бала]."
      ]
    },
    {
      "cell_type": "markdown",
      "metadata": {
        "id": "6qYz6A3WS5jy"
      },
      "source": [
        "**your solution**"
      ]
    },
    {
      "cell_type": "code",
      "metadata": {
        "id": "ORZ4yLZlS4mH",
        "colab": {
          "base_uri": "https://localhost:8080/",
          "height": 594
        },
        "outputId": "8b54fe21-c3ae-4fa4-87db-68d63913b347"
      },
      "source": [
        "# code\n",
        "import numpy as np\n",
        "import scipy.integrate as integrate\n",
        "import matplotlib.pyplot as plt\n",
        "\n",
        "x = np.arange(0, 4, 0.01)\n",
        "integrals = []\n",
        "integralsNP = []\n",
        "\n",
        "for i, x_i in enumerate(x):\n",
        "  h = 0.01\n",
        "  t = np.arange(x_i, x_i + 0.5, h)\n",
        "  f = np.cos(t*t/3)\n",
        "  I = 0\n",
        "  for j, t_j in enumerate(t):\n",
        "    if j == 0 or j == len(t) - 1:\n",
        "      I += 0.5*h*f[j]\n",
        "    else:\n",
        "      I += h*f[j]\n",
        "  integrals.append(I)\n",
        "\n",
        "  result = integrate.quad(lambda t: np.cos(t*t/3), x_i, x_i + 0.5)\n",
        "  integralsNP.append(result[0])\n",
        "\n",
        "fig, ax = plt.subplots()\n",
        "ax.set(xlabel='x', ylabel='f(x)')\n",
        "\n",
        "# Result of trapezoidal integration\n",
        "ax.plot(x, integrals, color='red', linewidth=3, alpha=0.3)\n",
        "# Result of scipy integration\n",
        "ax.plot(x, integralsNP, color='green', linewidth=0.75)\n",
        "\n",
        "i_min = np.where(integrals == np.amin(integrals))\n",
        "print(\"Trapezoidal integration: min f(x) = \" + str(np.amin(np.array(integrals))) + \" when x = \" + str(x[i_min]))\n",
        "\n",
        "i_np_min = np.where(integralsNP == np.amin(integralsNP))\n",
        "print(\"Scipy integration: min f(x) = \" + str(np.amin(np.array(integralsNP))) + \" when x = \" + str(x[i_np_min]))\n",
        "\n",
        "fig, ax = plt.subplots()\n",
        "ax.set(xlabel='x', ylabel='f(x) upscaled')\n",
        "\n",
        "# Result of trapezoidal integration\n",
        "values_upscaled = [(x_v, y_v) for x_v, y_v in zip(x, integrals) if y_v < -0.4]\n",
        "x_upscaled, y_upscaled =  zip(*values_upscaled)\n",
        "ax.plot(x_upscaled, y_upscaled, color='red', linewidth=6, alpha=0.3)\n",
        "\n",
        "# Result of scipy integration\n",
        "valuesNP_upscaled = [(x_v, y_v) for x_v, y_v in zip(x, integralsNP) if y_v < -0.4]\n",
        "xNP_upscaled, yNP_upscaled =  zip(*values_upscaled)\n",
        "ax.plot(xNP_upscaled, yNP_upscaled, color='green', linewidth=1)"
      ],
      "execution_count": null,
      "outputs": [
        {
          "output_type": "stream",
          "name": "stdout",
          "text": [
            "Trapezoidal integration: min f(x) = -0.46976008276055775 when x = [2.82]\n",
            "Scipy integration: min f(x) = -0.47855127741749254 when x = [2.81]\n"
          ]
        },
        {
          "output_type": "execute_result",
          "data": {
            "text/plain": [
              "[<matplotlib.lines.Line2D at 0x7f9c217e3e10>]"
            ]
          },
          "metadata": {},
          "execution_count": 76
        },
        {
          "output_type": "display_data",
          "data": {
            "image/png": "[encoded data removed]",
            "text/plain": [
              "<Figure size 432x288 with 1 Axes>"
            ]
          },
          "metadata": {
            "needs_background": "light"
          }
        },
        {
          "output_type": "display_data",
          "data": {
            "image/png": "[encoded data removed]",
            "text/plain": [
              "<Figure size 432x288 with 1 Axes>"
            ]
          },
          "metadata": {
            "needs_background": "light"
          }
        }
      ]
    },
    {
      "cell_type": "markdown",
      "metadata": {
        "id": "up_D4yGn7Fxj"
      },
      "source": [
        "**Задача 8.**  [Градиентный спуск](https://ru.wikipedia.org/wiki/%D0%93%D1%80%D0%B0%D0%B4%D0%B8%D0%B5%D0%BD%D1%82%D0%BD%D1%8B%D0%B9_%D1%81%D0%BF%D1%83%D1%81%D0%BA). Реализуйте метод градиентного спуска. После реализации, найдите минимумы заданных функций - ```f(x)``` и ```f(x, y)```.\n",
        "\n",
        "Визуализируйте графики функций, а так же шаги градиентного спуска. Исследуйте как изменения **начальной точки** и **размера шага** влияют на нахождение истинного минимума и скорость сходимости алгоритма.\n",
        "\n",
        "\n",
        "\n",
        "1.   $ f(x) = x^4 - 15 x^2 - 10 x + 24; \\ \\ \\ x \\in [-4; 5]$\n",
        "2. $ f(x, y) = sin(x) + cos(y) \\ \\ \\ x \\in [-2\\pi; 2\\pi] \\ \\ \\ y \\in [-2\\pi; 2\\pi]$\n",
        "3.   $ f(x, y) = sin(x) + cos(y) + \\frac{x \\cdot y}{10} \\ \\ \\ x \\in [-2\\pi; 2\\pi] \\ \\ \\ y \\in [-2\\pi; 2\\pi]$\n",
        "\n",
        "\n",
        "**[подсказка]** Расчитайте производные, после этого реализуйте их в виде функциий. Напишите функцию ```GradientDescent``` так, что бы ее реализация не зависела от размерности инпута функции ```f(x)```.\n",
        "\n",
        "Решение каждого пункта оценивается в [2 бала].\n"
      ]
    },
    {
      "cell_type": "code",
      "metadata": {
        "id": "KAQ6zc_vQPCg",
        "colab": {
          "base_uri": "https://localhost:8080/",
          "height": 315
        },
        "outputId": "682c8279-39f1-4b95-f2f0-d6f0c510ffbf"
      },
      "source": [
        "import numpy as np\n",
        "import matplotlib.pyplot as plt\n",
        "from matplotlib import cm\n",
        "\n",
        "def GradientDescent(derivative, start, lr, n_iter = 40):\n",
        "  point = start\n",
        "  path_x, path_y = [point[0]], [point[1]]\n",
        "  for _ in range(n_iter):\n",
        "    diff = -lr * derivative(point)\n",
        "    point += diff\n",
        "    path_x.append(point[0])\n",
        "    path_y.append(point[1])\n",
        "  return point, zip(path_x, path_y)\n",
        "\n",
        "### 2. gradient_vector = (cos(x), -sin(y)) ###\n",
        "def f2_xy(x, y):\n",
        "  return np.sin(x) + np.cos(y)\n",
        "\n",
        "minimum, coordinates = GradientDescent(lambda v: np.array([np.cos(v[0]), -np.sin(v[1])]), np.array([1.0, 1.0]), 0.1)\n",
        "z_min = np.sin(minimum[0]) + np.cos(minimum[1])\n",
        "print(minimum, z_min)\n",
        "\n",
        "# new start position\n",
        "minimum_2, coordinates_2 = GradientDescent(lambda v: np.array([np.cos(v[0]), -np.sin(v[1])]), np.array([-4.0, -1.0]), 0.1)\n",
        "z_min_2 = np.sin(minimum_2[0]) + np.cos(minimum_2[1])\n",
        "print(minimum_2, z_min_2)\n",
        "\n",
        "# new big lr\n",
        "minimum_3, coordinates_3 = GradientDescent(lambda v: np.array([np.cos(v[0]), -np.sin(v[1])]), np.array([6.2, 6.2]), 2.3)\n",
        "z_min_3 = np.sin(minimum_3[0]) + np.cos(minimum_3[1])\n",
        "print(minimum_3, z_min_3)\n",
        "\n",
        "fig, ax = plt.subplots(subplot_kw={\"projection\": \"3d\"})\n",
        "\n",
        "values_limit = 2*np.pi\n",
        "X = np.arange(-values_limit, values_limit, 0.1)\n",
        "Y = np.arange(-values_limit, values_limit, 0.1)\n",
        "X, Y = np.meshgrid(X, Y)\n",
        "Z = np.sin(X) + np.cos(Y)\n",
        "\n",
        "surf = ax.plot_surface(X, Y, Z, cmap=cm.BuPu, alpha=0.4)\n",
        "\n",
        "ax.scatter([minimum[0]], [minimum[1]], [z_min], c=\"m\")\n",
        "path_x, path_y =  zip(*coordinates)\n",
        "ax.plot(path_x, path_y, f2_xy(path_x, path_y), color='m', linewidth=1)\n",
        "\n",
        "ax.scatter([minimum_2[0]], [minimum_2[1]], [z_min_2], c=\"b\")\n",
        "path_x, path_y =  zip(*coordinates_2)\n",
        "ax.plot(path_x, path_y, f2_xy(path_x, path_y), color='b', linewidth=1)\n",
        "\n",
        "ax.scatter([minimum_3[0]], [minimum_3[1]], [z_min_3], c=\"r\")\n",
        "path_x, path_y =  zip(*coordinates_3)\n",
        "ax.plot(path_x, path_y, f2_xy(path_x, path_y), color='r', linewidth=1)"
      ],
      "execution_count": null,
      "outputs": [
        {
          "output_type": "stream",
          "name": "stdout",
          "text": [
            "[-1.45540919  3.0829764 ] -1.9916328462104844\n",
            "[-1.65979426 -3.0829764 ] -1.9943248560203513\n",
            "[5.61527238 2.23870925] -1.2386974785902516\n"
          ]
        },
        {
          "output_type": "execute_result",
          "data": {
            "text/plain": [
              "[<mpl_toolkits.mplot3d.art3d.Line3D at 0x7f227986d510>]"
            ]
          },
          "metadata": {},
          "execution_count": 45
        },
        {
          "output_type": "display_data",
          "data": {
            "image/png": "[encoded data removed]",
            "text/plain": [
              "<Figure size 432x288 with 1 Axes>"
            ]
          },
          "metadata": {
            "needs_background": "light"
          }
        }
      ]
    },
    {
      "cell_type": "markdown",
      "metadata": {
        "id": "YjBvSyEGI5Do"
      },
      "source": [
        "## Часть 2. Линейная алгебра. 📏"
      ]
    },
    {
      "cell_type": "markdown",
      "metadata": {
        "id": "OFmASmw7T7HS"
      },
      "source": [
        "**Задача 1.** Вам даны матрицы ```A, B, C```. Вычислите:\n",
        "\n",
        "\n",
        "1.   ```2A-3B```\n",
        "2.   ```A + 5B - C```\n",
        "3.   ```4B - C```\n",
        "\n",
        "\n",
        "$ A =\n",
        "\\begin{pmatrix}\n",
        "1 & 0 & 2\\\\\n",
        "0 & 1 & 0\\\\\n",
        "-2 & 0 & 1\n",
        "\\end{pmatrix} \\\n",
        "B =\n",
        "\\begin{pmatrix}\n",
        "-1 & 1 & 2\\\\\n",
        "3 & 5 & -2\\\\\n",
        "0 & 0 & -2\n",
        "\\end{pmatrix} \\\n",
        "C =\n",
        "\\begin{pmatrix}\n",
        "1 & 1 & 2\\\\\n",
        "1 & 2 & 4\\\\\n",
        "-2 & 5 & 3\n",
        "\\end{pmatrix}$\n",
        "\n",
        "Решение каждого пункта оценивается в [1 бал]."
      ]
    },
    {
      "cell_type": "markdown",
      "metadata": {
        "id": "D2l4LV-XWORb"
      },
      "source": [
        "**your solution**\n",
        "\n",
        "2.\n",
        "$  A+5B-C =\n",
        "\\begin{pmatrix}\n",
        "1 & 0 & 2\\\\\n",
        "0 & 1 & 0\\\\\n",
        "-2 & 0 & 1\n",
        "\\end{pmatrix} + 5\n",
        "\\begin{pmatrix}\n",
        "-1 & 1 & 2\\\\\n",
        "3 & 5 & -2\\\\\n",
        "0 & 0 & -2\n",
        "\\end{pmatrix} -\n",
        "\\begin{pmatrix}\n",
        "1 & 1 & 2\\\\\n",
        "1 & 2 & 4\\\\\n",
        "-2 & 5 & 3\n",
        "\\end{pmatrix} =\n",
        "\\begin{pmatrix}\n",
        "1-5-1 & 5-1 & 2+10-2\\\\\n",
        "15-1 & 1+25-2 & -10-4\\\\\n",
        "-2+2 & -5 & 1-10-3\n",
        "\\end{pmatrix}=\n",
        "\\begin{pmatrix}\n",
        "-5 & 4 & 10\\\\\n",
        "14 & 24 & -14\\\\\n",
        "0 & -5 & -12\n",
        "\\end{pmatrix}\n",
        "$"
      ]
    },
    {
      "cell_type": "markdown",
      "metadata": {
        "id": "PoTXF81yWSvL"
      },
      "source": [
        "**Задача 2.** Вам даны матрицы $ A, B, C, D$ . Вычислите:\n",
        "\n",
        "\n",
        "1.   $ 2BC - AC $\n",
        "2.   $ 2CB - CA $\n",
        "\n",
        "\n",
        "\n",
        "$ A =\n",
        "\\begin{pmatrix}\n",
        "1 & -2 & 3\\\\\n",
        "2 & 0 & 1\n",
        "\\end{pmatrix} \\\n",
        "B =\n",
        "\\begin{pmatrix}\n",
        "-1 & 0 & 2 \\\\\n",
        "-3 & 1 & 4\n",
        "\\end{pmatrix} \\\n",
        "C =\n",
        "\\begin{pmatrix}\n",
        "-1 & 1 \\\\\n",
        "2 & -1 \\\\\n",
        "0 & 1\n",
        "\\end{pmatrix}$\n",
        "\n",
        "Решение каждого пункта оценивается в [1 бал]."
      ]
    },
    {
      "cell_type": "markdown",
      "metadata": {
        "id": "DABSkNiQXwfQ"
      },
      "source": [
        "**your solution**\n",
        "1. $2BC-AC = 2\\begin{pmatrix}\n",
        "-1 & 0 & 2 \\\\\n",
        "-3 & 1 & 4 \\end{pmatrix}\n",
        "\\begin{pmatrix}\n",
        "-1 & 1 \\\\\n",
        "2 & -1 \\\\\n",
        "0 & 1 \\end{pmatrix} -\n",
        "\\begin{pmatrix}\n",
        "1 & -2 & 3 \\\\\n",
        "2 & 0 & 1 \\end{pmatrix}\n",
        "\\begin{pmatrix}\n",
        "-1 & 1 \\\\\n",
        "2 & -1 \\\\\n",
        "0 & 1 \\end{pmatrix} =\n",
        "2\\begin{pmatrix}\n",
        "1 & 1 \\\\\n",
        "5 & 0 \\end{pmatrix} -\n",
        "\\begin{pmatrix}\n",
        "-5 & 6 \\\\\n",
        "-2 & 3 \\end{pmatrix} =\n",
        "\\begin{pmatrix}\n",
        "7 & -4 \\\\\n",
        "12 & -3 \\end{pmatrix}$\n",
        "\n",
        "2. $2CB-CA = 2\\begin{pmatrix}\n",
        "-1 & 1 \\\\\n",
        "2 & -1 \\\\\n",
        "0 & 1 \\end{pmatrix}\n",
        "\\begin{pmatrix}\n",
        "-1 & 0 & 2 \\\\\n",
        "-3 & 1 & 4 \\end{pmatrix} -\n",
        "\\begin{pmatrix}\n",
        "-1 & 1 \\\\\n",
        "2 & -1 \\\\\n",
        "0 & 1 \\end{pmatrix}\n",
        "\\begin{pmatrix}\n",
        "1 & -2 & 3 \\\\\n",
        "2 & 0 & 1 \\end{pmatrix} =\n",
        "2\\begin{pmatrix}\n",
        "-2 & 1 & 2 \\\\\n",
        "1 & -1 & 0 \\\\\n",
        "-3 & 1 & 4 \\end{pmatrix} -\n",
        "\\begin{pmatrix}\n",
        "1 & 2 & -2 \\\\\n",
        "0 & -4 & 5 \\\\\n",
        "2 & 0 & 1 \\end{pmatrix} =\n",
        "\\begin{pmatrix}\n",
        "-5 & 0 & 6 \\\\\n",
        "2 & 2 & -5 \\\\\n",
        "-8 & 2 & 7 \\end{pmatrix}$\n"
      ]
    },
    {
      "cell_type": "markdown",
      "metadata": {
        "id": "icJ0RWw_YKNs"
      },
      "source": [
        "**Задача 3.** Вычислите определители матриц $A$ и $B$.\n",
        "\n",
        "$ A =\n",
        "\\begin{pmatrix}\n",
        "2 & -3 \\\\\n",
        "4 & 5\n",
        "\\end{pmatrix} \\\n",
        "B =\n",
        "\\begin{pmatrix}\n",
        "1 & -1 & 2\\\\\n",
        "3 & 2 & 4\\\\\n",
        "2 & 3 & 1\n",
        "\\end{pmatrix} $\n",
        "\n",
        "Решение каждого пункта оценивается в [1 бал]."
      ]
    },
    {
      "cell_type": "markdown",
      "metadata": {
        "id": "hMpq_zjTJQQV"
      },
      "source": [
        "**your solution**\n",
        "\n",
        "$det(A) = 10-(-12) = 22$\n",
        "\n",
        "$det(B) = 1(2-12)-(-1)(3-8)+2(9-4) = -10-5+10 = -5$"
      ]
    },
    {
      "cell_type": "markdown",
      "metadata": {
        "id": "NuHJFoixZPUH"
      },
      "source": [
        "**Задача 4.** Надите матрицу $A$ для каждого из примеров.\n",
        "\n",
        "\n",
        "\n",
        "1.   $A \\cdot \\begin{pmatrix}\n",
        "x \\\\\n",
        "y\n",
        "\\end{pmatrix} = \\begin{pmatrix}\n",
        "y \\\\\n",
        "x\n",
        "\\end{pmatrix}$  \n",
        "2.   $A \\cdot \\begin{pmatrix}\n",
        "x \\\\\n",
        "y\n",
        "\\end{pmatrix} = \\begin{pmatrix}\n",
        "x+y \\\\\n",
        "x-y\n",
        "\\end{pmatrix}$\n",
        "\n",
        "3.   $A \\cdot \\begin{pmatrix}\n",
        "x \\\\\n",
        "y\n",
        "\\end{pmatrix} = \\begin{pmatrix}\n",
        "0 \\\\\n",
        "x\n",
        "\\end{pmatrix}$\n",
        "\n",
        "4. $A \\cdot \\begin{pmatrix}\n",
        "F_{n} \\\\\n",
        "F_{n-1}\n",
        "\\end{pmatrix} = \\begin{pmatrix}\n",
        "F_{n+1} \\\\\n",
        "F_{n}\n",
        "\\end{pmatrix}$, где $F_{n}$ -  n-тое число [Фибоначчи](https://ru.wikipedia.org/wiki/%D0%A7%D0%B8%D1%81%D0%BB%D0%B0_%D0%A4%D0%B8%D0%B1%D0%BE%D0%BD%D0%B0%D1%87%D1%87%D0%B8)\n",
        "\n",
        "5. $A \\cdot \\begin{pmatrix}\n",
        "sin(\\alpha) \\\\\n",
        "cos(\\alpha)\n",
        "\\end{pmatrix} = \\begin{pmatrix}\n",
        "sin(\\alpha + 45^{\\circ}) \\\\\n",
        "cos(\\alpha + 45^{\\circ})\n",
        "\\end{pmatrix}$\n",
        "\n",
        "\n",
        "Решение каждого пункта оценивается в [1 бал].\n"
      ]
    },
    {
      "cell_type": "markdown",
      "metadata": {
        "id": "az_QHio_dqaj"
      },
      "source": [
        "**your solution**\n",
        "1. $\\begin{equation}\n",
        "    \\begin{cases}\n",
        "      ax + by = y;\\\\\n",
        "      cx + dy = x;\n",
        "    \\end{cases} \\ \\\n",
        "    \\begin{cases}\n",
        "      a = d = 0;\\\\\n",
        "      b = c = 1;\n",
        "    \\end{cases} \\ \\\n",
        "\\end{equation} \\ \\ \\ \\\n",
        "A = \\begin{pmatrix}\n",
        "0 & 1 \\\\\n",
        "1 & 0 \\end{pmatrix}$\n",
        "\n",
        "2. $\\begin{equation}\n",
        "    \\begin{cases}\n",
        "      ax + by = x + y; \\\\\\\\\n",
        "      cx + dy = x - y;\n",
        "    \\end{cases}\n",
        "    \\end{equation} \\ \\ \\ \\\n",
        "    A = \\begin{pmatrix}\n",
        "    1 & 1 \\\\\\\\\n",
        "    1 & -1 \\end{pmatrix}$\n",
        "\n",
        "3. $\\begin{equation}\n",
        "    \\begin{cases}\n",
        "      ax + by = 0; \\\\\\\\\n",
        "      cx + dy = x;\n",
        "    \\end{cases}\n",
        "    \\end{equation} \\ \\ \\ \\\n",
        "    A = \\begin{pmatrix}\n",
        "    0 & 0 \\\\\\\\\n",
        "    1 & 0 \\end{pmatrix}$\n",
        "\n",
        "4. $\\begin{equation}\n",
        "    \\begin{cases}\n",
        "      aF_n + bF_{n-1} = F_{n+1} = F_n + F_{n-1}; \\\\\\\\\n",
        "      cF_n + dF_{n-1} = F_n;\n",
        "    \\end{cases}\n",
        "    \\end{equation} \\ \\ \\ \\\n",
        "    A = \\begin{pmatrix}\n",
        "    1 & 1 \\\\\\\\\n",
        "    1 & 0 \\end{pmatrix}$\n",
        "    \n",
        "5. $\\begin{equation}\n",
        "    \\begin{cases}\n",
        "      a\\sin(\\alpha) + b\\cos(\\alpha) = \\sin(\\alpha)\\cos(45) + \\cos(\\alpha)\\sin(45) = \\frac{\\sqrt{2}}{2}(\\sin(\\alpha) + \\cos(\\alpha)); \\\\\\\\\n",
        "      c\\sin(\\alpha) + d\\cos(\\alpha) = \\cos(\\alpha)\\cos(45) - \\sin(\\alpha)\\sin(45) =  \\frac{\\sqrt{2}}{2}(\\cos(\\alpha) - \\sin(\\alpha));\n",
        "    \\end{cases}\n",
        "    \\end{equation} \\ \\ \\ \\\n",
        "    A = \\begin{pmatrix}\n",
        "    \\frac{\\sqrt{2}}{2} & \\frac{\\sqrt{2}}{2} \\\\\\\\\n",
        "    \\frac{\\sqrt{2}}{2} & -\\frac{\\sqrt{2}}{2} \\end{pmatrix}$"
      ]
    },
    {
      "cell_type": "markdown",
      "metadata": {
        "id": "idc0bjhddtAz"
      },
      "source": [
        "**Задача 5.** Решите систему линейных уравнений. Перед этим записав ее в матричном виде - $ Ax = b$:\n",
        "\n",
        "\n",
        "1.   $ \\begin{cases}\n",
        "2x_1 - x_2 - x_3 = 7\\\\\n",
        "3x_1 + 4x_2 - 2x_3 = 17\\\\\n",
        "5x_1 - 2x_2 - 2x_3 = 22\\\\\n",
        "\\end{cases} $\n",
        "\n",
        "\n",
        "2.   $ \\begin{cases}\n",
        "2x_1 + x_3 + x_4 = 7\\\\\n",
        "3x_1 - x_2 + 2x_3 - x_4= 13\\\\\n",
        "6x_1 + 4x_2 - x_3 + 3x_4= 9\\\\\n",
        "x_1 - x_2 + 2x_3 - x_4= 7\n",
        "\\end{cases} $\n",
        "\n",
        "Решите каждую из систем двумя способами: [методом Гауса](https://ru.wikipedia.org/wiki/%D0%9C%D0%B5%D1%82%D0%BE%D0%B4_%D0%93%D0%B0%D1%83%D1%81%D1%81%D0%B0) и численно, воспользовавшись функцией из [numpy.linalg](https://numpy.org/doc/stable/reference/routines.linalg.html).\n",
        "\n",
        "Решение каждого пункта оценивается в [2 бала].\n"
      ]
    },
    {
      "cell_type": "markdown",
      "metadata": {
        "id": "XxJYWlMsd-lg"
      },
      "source": [
        "**your solution**\n",
        "1. $A = \\left[\\begin{array}{ccc|c}\n",
        "1 & -0.5 & -0.5 & 3.5\\\\\n",
        "3 & 4 & -2 & 17\\\\\n",
        "5 & -2 & -2 & 22\n",
        "\\end{array}\\right]$\n",
        "\n",
        "$\\left[\\begin{array}{ccc|c}\n",
        "1 & -0.5 & -0.5 & 3.5\\\\\n",
        "0 & 5.5 & -0.5 & 6.5\\\\\n",
        "0 & 0.5 & 0.5 & 4.5\n",
        "\\end{array}\\right] \\rightarrow\n",
        "\\left[\\begin{array}{ccc|c}\n",
        "2 & -1 & -1 & 7\\\\\n",
        "0 & 1 & 1 & 9\\\\\n",
        "0 & 11 & -1 & 13\n",
        "\\end{array}\\right] \\rightarrow\n",
        "\\left[\\begin{array}{ccc|c}\n",
        "2 & -1 & -1 & 7\\\\\n",
        "0 & 1 & 1 & 9\\\\\n",
        "0 & 0 & -6 & -43\n",
        "\\end{array}\\right]$\n",
        "\n",
        "$ x_3 = 7\\frac{1}{6} \\rightarrow x_2 = 1\\frac{5}{6} \\rightarrow x_1 = 8$\n",
        "\n",
        "2. $A = \\left[\\begin{array}{cccc|c}\n",
        "2 & 0 & 1 & 1 & 7\\\\\n",
        "3 & -1 & 2 & -1 & 13\\\\\n",
        "6 & 4 & -1 & 3 & 9\\\\\n",
        "1 & -1 & 2 & -1 & 7\n",
        "\\end{array}\\right]$\n",
        "\n",
        "$\\left[\\begin{array}{cccc|c}\n",
        "1 & -1 & 2 & -1 & 7\\\\\n",
        "2 & 0 & 1 & 1 & 7\\\\\n",
        "3 & -1 & 2 & -1 & 13\\\\\n",
        "6 & 4 & -1 & 3 & 9\\\\\n",
        "\\end{array}\\right] \\rightarrow\n",
        "\\left[\\begin{array}{cccc|c}\n",
        "1 & -1 & 2 & -1 & 7\\\\\n",
        "0 & 2 & -3 & 3 & -7\\\\\n",
        "0 & 2 & -4 & 2 & -8\\\\\n",
        "0 & 10 & -13 & 9 & -33\\\\\n",
        "\\end{array}\\right] \\rightarrow\n",
        "\\left[\\begin{array}{cccc|c}\n",
        "1 & -1 & 2 & -1 & 7\\\\\n",
        "0 & 2 & -3 & 3 & -7\\\\\n",
        "0 & 0 & -1 & -1 & -1\\\\\n",
        "0 & 0 & 2 & -6 & 2\\\\\n",
        "\\end{array}\\right] \\rightarrow\n",
        "\\left[\\begin{array}{cccc|c}\n",
        "1 & -1 & 2 & -1 & 7\\\\\n",
        "0 & 2 & -3 & 3 & -7\\\\\n",
        "0 & 0 & 1 & 1 & 1\\\\\n",
        "0 & 0 & 0 & -8 & 0\\\\\n",
        "\\end{array}\\right]$\n",
        "\n",
        "$x_4 = 0 \\rightarrow x_3 = 1 \\rightarrow x_2 = -2 \\rightarrow x_1 = 3$"
      ]
    },
    {
      "cell_type": "code",
      "metadata": {
        "id": "JsHGe01inTuH",
        "colab": {
          "base_uri": "https://localhost:8080/"
        },
        "outputId": "084a1ef4-a7ee-4a31-9369-af1ead4deeb1"
      },
      "source": [
        "# code\n",
        "import numpy as np\n",
        "### 1 ###\n",
        "A = np.array([[1, -1, 2, -1], [2, 0, 1, 1], [3, -1, 2, -1], [6, 4, -1, 3]])\n",
        "b = np.array([7, 7, 13, 9])\n",
        "\n",
        "x = np.linalg.solve(A, b)\n",
        "print(np.around(x, decimals=4))\n",
        "\n",
        "### 2 ###\n",
        "C = np.array([[2, -1, -1], [3, 4, -2], [5, -2, -2]])\n",
        "d = np.array([7, 17, 22])\n",
        "\n",
        "y = np.linalg.solve(C, d)\n",
        "print(np.around(y, decimals=4))"
      ],
      "execution_count": null,
      "outputs": [
        {
          "output_type": "stream",
          "name": "stdout",
          "text": [
            "[ 3. -2.  1. -0.]\n",
            "[8.     1.8333 7.1667]\n"
          ]
        }
      ]
    },
    {
      "cell_type": "markdown",
      "metadata": {
        "id": "L-cBf855hE4q"
      },
      "source": [
        "**Задача 6.** Решите систему уравнений. Визуализируйте решение.\n",
        "\n",
        "$ \\begin{cases}\n",
        "x_1  + x_3 = 1\\\\\n",
        "x_2 + x_3 = 2\\\\\n",
        "2x_1 + 3x_2 + 5x_3 = 8\\\\\n",
        "\\end{cases} $\n",
        "\n",
        "Решение оценивается в [2 балла]."
      ]
    },
    {
      "cell_type": "markdown",
      "metadata": {
        "id": "MpgPO9oohE8l"
      },
      "source": [
        "**your solution**\n",
        "\n",
        "$A = \\left[\\begin{array}{ccc|c}\n",
        "1 & 0 & 1 & 1\\\\\n",
        "0 & 1 & 1 & 2\\\\\n",
        "2 & 3 & 5 & 8\n",
        "\\end{array}\\right] \\rightarrow\n",
        "\\left[\\begin{array}{ccc|c}\n",
        "1 & 0 & 1 & 1\\\\\n",
        "0 & 1 & 1 & 2\\\\\n",
        "0 & 3 & 3 & 6\n",
        "\\end{array}\\right] \\rightarrow\n",
        "\\left[\\begin{array}{ccc|c}\n",
        "1 & 0 & 1 & 1\\\\\n",
        "0 & 1 & 1 & 2\\\\\n",
        "0 & 0 & 0 & 0\n",
        "\\end{array}\\right]$\n",
        "\n",
        "$x_3 = 1-x_1, \\ \\ \\ \\ x_2 = 1+x_1, \\ \\ \\ \\ x_1 = const$\n",
        "\n",
        "Пересечение двух плоскостей - прямая.\n"
      ]
    },
    {
      "cell_type": "code",
      "metadata": {
        "id": "RyIt7jOqnX3N",
        "colab": {
          "base_uri": "https://localhost:8080/",
          "height": 248
        },
        "outputId": "ab9ee00d-acc8-436a-bfa6-a7a19f4bcd6c"
      },
      "source": [
        "# code\n",
        "import numpy as np\n",
        "import matplotlib.pyplot as plt\n",
        "from mpl_toolkits.mplot3d import Axes3D\n",
        "\n",
        "fig = plt.figure()\n",
        "ax = plt.axes(projection='3d')\n",
        "\n",
        "X, Y = np.meshgrid(range(11), range(11))\n",
        "Z1 = 1 - X\n",
        "Z2 = 2 - Y\n",
        "\n",
        "ax.plot_surface(X, Y, Z1, alpha=0.5, rstride=10, cstride=10)\n",
        "ax.plot_surface(X, Y, Z2, alpha=0.5, rstride=10, cstride=10)\n",
        "ax.plot([0, 10], [1, 11], [1, -9], color='r', alpha=0.5, lw=2)\n",
        "\n",
        "plt.show()"
      ],
      "execution_count": null,
      "outputs": [
        {
          "output_type": "display_data",
          "data": {
            "image/png": "[encoded data removed]",
            "text/plain": [
              "<Figure size 432x288 with 1 Axes>"
            ]
          },
          "metadata": {
            "needs_background": "light"
          }
        }
      ]
    },
    {
      "cell_type": "markdown",
      "metadata": {
        "id": "nyWqmpGG4wch"
      },
      "source": [
        "**Задача 7.** Посчитайте [скалярное произведение](https://zaochnik.com/spravochnik/matematika/vektory/skaljarnoe-proizvedenie-vektorov/#:~:text=%D0%A1%D0%BA%D0%B0%D0%BB%D1%8F%D1%80%D0%BD%D0%BE%D0%B5%20%D0%BF%D1%80%D0%BE%D0%B8%D0%B7%D0%B2%D0%B5%D0%B4%D0%B5%D0%BD%D0%B8%D0%B5%20%D0%B2%D0%B5%D0%BA%D1%82%D0%BE%D1%80%D0%BE%D0%B2%20%D0%BD%D0%B0%D0%B7%D1%8B%D0%B2%D0%B0%D1%8E%D1%82%20%D1%87%D0%B8%D1%81%D0%BB%D0%BE,%D0%BD%D0%B0%20%D0%BA%D0%BE%D1%81%D0%B8%D0%BD%D1%83%D1%81%20%D1%83%D0%B3%D0%BB%D0%B0%20%D0%BC%D0%B5%D0%B6%D0%B4%D1%83%20%D0%BD%D0%B8%D0%BC%D0%B8.&text=%D0%A1%D0%BA%D0%B0%D0%BB%D1%8F%D1%80%D0%BD%D0%BE%D0%B5%20%D1%83%D0%BC%D0%BD%D0%BE%D0%B6%D0%B5%D0%BD%D0%B8%D0%B5%20%D0%B2%D0%B5%D0%BA%D1%82%D0%BE%D1%80%D0%B0%20%D1%81%D0%B0%D0%BC%D0%BE%D0%B3%D0%BE%20%D0%BD%D0%B0%20%D1%81%D0%B5%D0%B1%D1%8F%20%D0%BD%D0%B0%D0%B7%D1%8B%D0%B2%D0%B0%D1%8E%D1%82%20%D1%81%D0%BA%D0%B0%D0%BB%D1%8F%D1%80%D0%BD%D1%8B%D0%BC%20%D0%BA%D0%B2%D0%B0%D0%B4%D1%80%D0%B0%D1%82%D0%BE%D0%BC.) между векторами $\\overline{a}$ и $\\overline{b}$.\n",
        "\n",
        "\n",
        "\n",
        "1.   $ \\overline{a}=(1, -1)^{T} \\ \\ \\ \\overline{b}=(5, -2)^{T} $\n",
        "2.   $ \\overline{a}=(2, 2)^{T} \\ \\ \\ \\overline{b}=(1, -2)^{T} $\n",
        "3.   $ \\overline{a}=(\\frac{1}{\\sqrt{3}}, \\frac{1}{\\sqrt{3}}, \\frac{1}{\\sqrt{3}})^{T} \\ \\ \\ \\overline{b}=(\\frac{1}{\\sqrt{3}}, \\frac{1}{\\sqrt{3}}, \\frac{1}{\\sqrt{3}})^{T} $\n",
        "\n",
        "Решение каждого пункта оценивается в [1 бал].\n"
      ]
    },
    {
      "cell_type": "markdown",
      "metadata": {
        "id": "5LFvxYRCyOGV"
      },
      "source": [
        "**your solution**\n",
        "\n",
        "1.   $ (\\overline{a}, \\overline{b})=5+2=7$\n",
        "2.   $  (\\overline{a}, \\overline{b})=2-4=-2$\n",
        "3.   $  (\\overline{a}, \\overline{b})=\\frac{1}{3}+\\frac{1}{3}+\\frac{1}{3}=3$"
      ]
    },
    {
      "cell_type": "markdown",
      "metadata": {
        "id": "4iLERwCA6yEg"
      },
      "source": [
        "**Задача 8.** Найдите такое $x$, что $c^{T}x$ принимает минимальное возможное значение, а $a^{T}x \\leq b $.\n",
        "\n",
        " $a$ и $c$ - вектора не нулевой дины, $b$ - положительное число.\n",
        "\n",
        "\n",
        "\n",
        " **[подсказка]** Попробуйте для начала решить задачу для двумерного случая, а после обобщить на $n$-мерный случай.\n",
        "\n",
        " **[напоминание]** По умолчанию вектор - это [вектор-столбец](https://studwork.org/spravochnik/matematika/vektor-stroka-i-vektor-stolbec), а не [вектор строка](https://studwork.org/spravochnik/matematika/vektor-stroka-i-vektor-stolbec).\n",
        "\n",
        "\n",
        "\n",
        "Решение оценивается в [3 бала]."
      ]
    },
    {
      "cell_type": "markdown",
      "metadata": {
        "id": "gmfp7hEK9o64"
      },
      "source": [
        "**your solution**"
      ]
    },
    {
      "cell_type": "markdown",
      "metadata": {
        "id": "U8J48mH2Bgs6"
      },
      "source": [
        "**Задача 9.** При каком значении $ \\alpha $ матричное выражение становится верным? Другими словами, решите матричное уравнение относительно  $ \\alpha $.  \n",
        "\n",
        "$\\begin{pmatrix}\n",
        "x, y \\\\\n",
        "\\end{pmatrix} \\cdot \\begin{pmatrix}\n",
        "cos(\\alpha) & -sin(\\alpha) \\\\\n",
        "sin(\\alpha) & cos(\\alpha)\n",
        "\\end{pmatrix}^{n} = \\begin{pmatrix}\n",
        "x, y\n",
        "\\end{pmatrix}$\n",
        "\n",
        "$n$ - натуральное число. Если решений несколько, выведите их все.\n",
        "\n",
        " **[подсказка]** Воспользуйтесь геометрическим смыслом матриц.\n",
        "\n",
        "Решение оценивается в [2 бала]."
      ]
    },
    {
      "cell_type": "markdown",
      "metadata": {
        "id": "cqWFTCLUF9RG"
      },
      "source": [
        "**your solution**\n",
        "\n",
        "$\\begin{pmatrix} x, y \\end{pmatrix} \\cdot\n",
        "\\begin{pmatrix}\n",
        "\\cos(\\alpha) & -\\sin(\\alpha) \\\\\n",
        "\\sin(\\alpha) & \\cos(\\alpha) \\end{pmatrix}^{n} =\n",
        "\\begin{pmatrix}\n",
        "x\\cos(\\alpha)+y\\sin(\\alpha), & y\\cos(\\alpha)-x\\sin(\\alpha) \\end{pmatrix}\n",
        "\\cdot\n",
        "\\begin{pmatrix}\n",
        "\\cos(\\alpha) & -\\sin(\\alpha) \\\\\n",
        "\\sin(\\alpha) & \\cos(\\alpha) \\end{pmatrix}^{n-1} =\n",
        "\\bigg\\vert \\begin{cases}\n",
        "     x = \\cos(\\beta) \\\\\n",
        "     y = \\sin(\\beta)\n",
        "     \\end{cases}\n",
        "     \\bigg\\vert =\n",
        "\\begin{pmatrix}\n",
        "\\cos(\\beta)\\cos(\\alpha)+\\sin(\\beta)\\sin(\\alpha), & \\sin(\\beta)\\cos(\\alpha)-\\cos(\\beta)\\sin(\\alpha) \\end{pmatrix}\n",
        "\\cdot\n",
        "\\begin{pmatrix}\n",
        "\\cos(\\alpha) & -\\sin(\\alpha) \\\\\n",
        "\\sin(\\alpha) & \\cos(\\alpha) \\end{pmatrix}^{n-1} =\n",
        "\\begin{pmatrix}\n",
        "\\cos(\\beta - \\alpha), & \\sin(\\beta - \\alpha) \\end{pmatrix}\n",
        "\\cdot\n",
        "\\begin{pmatrix}\n",
        "\\cos(\\alpha) & -\\sin(\\alpha) \\\\\n",
        "\\sin(\\alpha) & \\cos(\\alpha) \\end{pmatrix}^{n-1} =\n",
        "\\begin{pmatrix}\n",
        "\\cos(\\beta - 2\\alpha), & \\sin(\\beta - 2\\alpha) \\end{pmatrix}\n",
        "\\cdot\n",
        "\\begin{pmatrix}\n",
        "\\cos(\\alpha) & -\\sin(\\alpha) \\\\\n",
        "\\sin(\\alpha) & \\cos(\\alpha) \\end{pmatrix}^{n-2} =\n",
        "\\begin{pmatrix}\n",
        "\\cos(\\beta - n\\alpha), & \\sin(\\beta - n\\alpha) \\end{pmatrix} =\n",
        "\\begin{pmatrix} \\cos(\\beta), & \\sin(\\beta) \\end{pmatrix}$ поворот на $-\\alpha$\n",
        "\n",
        "$\\begin{cases}\n",
        "  \\cos(\\beta) = \\cos(\\beta - n\\alpha)\\\\\n",
        "  \\sin(\\beta) = \\sin(\\beta - n\\alpha)\n",
        "\\end{cases} \\Rightarrow n\\alpha = 2 \\pi n, \\alpha = 2 \\pi\n",
        "$"
      ]
    },
    {
      "cell_type": "markdown",
      "metadata": {
        "id": "e-fUaUQ5Kjnk"
      },
      "source": [
        "**Задача 10.** Пусть $A$ и $B$ - квадратные матрицы $n \\times n$. Если $ABA=A$, то $BAB=B$? Докажите или опровергните это утверждение.\n",
        "\n",
        "**[подсказка]** попробуйте разобрать несколько частных случаев, для матриц маленького размера.\n",
        "\n",
        "Решение оценивается в [3 бала]."
      ]
    },
    {
      "cell_type": "markdown",
      "metadata": {
        "id": "0hftUoSX1gG8"
      },
      "source": [
        "**your solution**\n",
        "\n",
        "$ABA = A \\vert \\times A^{-1}$\n",
        "\n",
        "$ABAA^{-1} = AA^{-1} $\n",
        "\n",
        "$ABE = E$\n",
        "\n",
        "$B \\times \\vert AB = E$\n",
        "\n",
        "$BAB = BE = B$"
      ]
    },
    {
      "cell_type": "markdown",
      "metadata": {
        "id": "_tkns1UBUC_K"
      },
      "source": [
        "## Часть 3. Теория вероятности🎲 и статистика. 📊"
      ]
    },
    {
      "cell_type": "markdown",
      "metadata": {
        "id": "L3dnxRnGUKqd"
      },
      "source": [
        "**Задача 1.** Честную монетку подбросили три раза. Чему равна вероятность того, что все три раза монетка упала на одну и ту же сторону? Честная монетка - это такая монетка у которой выпадения сторон равновероятно.\n",
        "\n",
        "[На ребро монетка не падает!](https://fishki.net/photo/1704911-verojatnost-togo-chto-pri-igre-v-orljanku-monetka-vstanet-na-rebro-ne-tak-mala-kak-mozhet-pokazat.html)  \n",
        "\n",
        "Решение оценивается в [1 бал]."
      ]
    },
    {
      "cell_type": "markdown",
      "metadata": {
        "id": "1Tz9dUn4RiCW"
      },
      "source": [
        "**your solution**\n",
        "\n",
        "$\\frac{1}{2} \\cdot \\frac{1}{2} \\cdot \\frac{1}{2} + \\frac{1}{2} \\cdot \\frac{1}{2} \\cdot \\frac{1}{2} = \\frac{1}{4}$"
      ]
    },
    {
      "cell_type": "markdown",
      "metadata": {
        "id": "qzNL1hgoRiKw"
      },
      "source": [
        "**Задача 2.** В Харькове популярна карточная игра [\"деберц\"](https://ru.wikipedia.org/wiki/%D0%94%D0%B5%D0%B1%D0%B5%D1%80%D1%86). Для игры используется колода от туза до семёрки (Туз, Король, Дама, Валет, 10, 9, 8, 7) в каждой масти(♠️♦️♣️♥️). \"Терц\"-ом называется **три** карты подряд одной масти(например 7,8,9 - пики♠️). Из колоды вытаскивают **три карты** - какая вероятность вытащить \"**терц**\"?\n",
        "\n",
        "**[комментарий]** Если вытащили первой картой Король бубей♣️, потом Туз бубей♣️, а затем Даму бубей♣️ - это считается терцом. Порядок в котором вы вытягиваете карты из колоды - не важен, важна только комбинация, которая будет у Вас на руках.\n",
        "\n",
        "Решение оценивается в [2 бала]."
      ]
    },
    {
      "cell_type": "markdown",
      "metadata": {
        "id": "wC-9I5SURiN_"
      },
      "source": [
        "**your solution**\n",
        "\n",
        "в каждой масти 6 удачных вариантов, всего вариантов вытащить 3 карты - $C^3_{32}$\n",
        "\n",
        "$p = \\frac{4 \\cdot 6}{C^3_{32}} = \\frac{4\\cdot6\\cdot29!}{32! \\cdot 3!} = \\frac{1}{8 \\cdot 31 \\cdot 30} = \\frac{1}{7440}$"
      ]
    },
    {
      "cell_type": "markdown",
      "metadata": {
        "id": "00xBizzcRiRA"
      },
      "source": [
        "**Задача 3.** Двое договорились о встрече в определенном месте. Каждый из них приходит в условленное место независимо друг от друга в случайный момент времени от **12:00** до **13:00** и ожидает не более чем **20** минут. Какова вероятность встречи на таких условиях?\n",
        "\n",
        "**[подсказка]** задача на геометрическую вероятность.\n",
        "\n",
        "Решение оценивается в [2 бала]."
      ]
    },
    {
      "cell_type": "markdown",
      "metadata": {
        "id": "incL-SPaXqIg"
      },
      "source": [
        "**your solution**\n",
        "\n",
        "$p = S_{good} = \\frac{S_{total}-S_{bad}}{S_{total}} = \\frac{60\\cdot60-40\\cdot40}{60\\cdot60} = \\frac{5}{9}$"
      ]
    },
    {
      "cell_type": "markdown",
      "metadata": {
        "id": "i5KPF4QAXrK3"
      },
      "source": [
        "**Задача 4.** Две палочки - ```a``` и ```b```. Длина палочки может быть любой в интервале от ```0``` до ```1```. Чему равна вероятность того, что одна палочка будет более чем в **два** раза длиннее другой?\n",
        "\n",
        "Решение оценивается в [1 бал]."
      ]
    },
    {
      "cell_type": "markdown",
      "metadata": {
        "id": "Ap6D1_a1XrHt"
      },
      "source": [
        "**your solution**\n",
        "\n",
        "$p = \\frac{S_{y>2x}+S_{y<0.5x}}{S_{total}} = 0.5$"
      ]
    },
    {
      "cell_type": "markdown",
      "metadata": {
        "id": "NUWHlN7_arcl"
      },
      "source": [
        "**Задача 5.** Отрезок длинной ```1``` метр делится на ```3``` части двумя точками. Координаты точек на отрезке располагаются [равновероятно](https://studme.org/232670/matematika_himiya_fizik/ravnoveroyatnoe_raspredelenie#:~:text=%D0%9F%D1%80%D0%BE%D1%81%D1%82%D0%B5%D0%B9%D1%88%D0%B8%D0%BC%20%D1%80%D0%B0%D1%81%D0%BF%D1%80%D0%B5%D0%B4%D0%B5%D0%BB%D0%B5%D0%BD%D0%B8%D0%B5%D0%BC%20%D0%B4%D0%BB%D1%8F%20%D0%BD%D0%B5%D0%BF%D1%80%D0%B5%D1%80%D1%8B%D0%B2%D0%BD%D0%BE%D0%B9%20%D1%81%D0%BB%D1%83%D1%87%D0%B0%D0%B9%D0%BD%D0%BE%D0%B9,%D0%BC%D0%BE%D0%B6%D0%B5%D1%82%20%D0%BF%D1%80%D0%B8%D0%BD%D1%8F%D1%82%D1%8C%20%D0%BD%D0%B8%D0%BA%D0%B0%D0%BA%D0%BE%D0%B3%D0%BE%20%D0%B4%D1%80%D1%83%D0%B3%D0%BE%D0%B3%D0%BE%20%D0%B7%D0%BD%D0%B0%D1%87%D0%B5%D0%BD%D0%B8%D1%8F.). Чему равна вероятность сложить из этих трех частей [треугольник](https://ru.wikipedia.org/wiki/%D0%9D%D0%B5%D1%80%D0%B0%D0%B2%D0%B5%D0%BD%D1%81%D1%82%D0%B2%D0%BE_%D1%82%D1%80%D0%B5%D1%83%D0%B3%D0%BE%D0%BB%D1%8C%D0%BD%D0%B8%D0%BA%D0%B0)?\n",
        "\n",
        "Решение оценивается в [2 бала]."
      ]
    },
    {
      "cell_type": "markdown",
      "metadata": {
        "id": "7xYHj5JKb-9Z"
      },
      "source": [
        "**your solution**\n",
        "\n",
        "Геометрическая вероясность того, что в кубе со стороной a = 1:\n",
        "$ \\begin{cases}\n",
        "x+y > z\\\\\n",
        "y+z > x\\\\\n",
        "z+x > y\\\\\n",
        "\\end{cases}$\n",
        "\n",
        "Тетраэдр, стороны которого являются диагоналями боковых граней, отсекает 3 пирамиды объемом $V_p\\frac{S \\cdot h}{3} = \\frac{l^2 \\cdot l}{6}$\n",
        "\n",
        "$p = \\frac{3 \\cdot V_p}{V_{total}} = \\frac{\\frac{3}{6}}{1} = \\frac{1}{2}$"
      ]
    },
    {
      "cell_type": "markdown",
      "metadata": {
        "id": "b6nJ-x6AcAvP"
      },
      "source": [
        "**Задача 6.** Честную монетку бросают ```n``` раз. Какая вероятность того, что **не** встретятся 2 орла подряд?\n",
        "\n",
        "\n",
        "1.   Численно оцените вероятность этого события для n равных ```3, 4, 5, 6, 10```.  Для моделирования подбрасывания монетки воспользуйтесь [распределением Бернулли](https://docs.scipy.org/doc/numpy-1.14.0/reference/generated/numpy.random.binomial.html). Постройте графики зависимости численной оценки вероятности от количесва экспериментов.\n",
        "2.   Выведите аналитическую формулу зависящую только от ```n```.\n",
        "\n",
        "**[подсказка]** Воспользовавшись результатами первого пункта, попробуйте угадать формулу. Аналитическая формула должна состоять  из числителя и знаменателя. Знаменатель очень простой и равен $2^n$. Обладая численными оценнками вероятностей для разных ```n```, вы можете посчитать числители аналитических дробей, это должно натолкнуть Вас на правильное аналитическое решение.\n",
        "\n",
        "Решение оценивается в [4 бала]. По 2 бала за каждый пункт.\n",
        "\n"
      ]
    },
    {
      "cell_type": "markdown",
      "metadata": {
        "id": "n8AU1vOicAyX"
      },
      "source": [
        "**your solution**\n",
        "Бросаем впервые:\n",
        "*   Решка, бросаем второй раз:\n",
        "    *   Ситуация не изменилась, бросили как впервые, но на 1 итерацию меньше - f(n-1)\n",
        "*   Орел, бросаем второй раз:\n",
        "    *   Решка, то есть бросили как впервые, но на 2 итерации меньше - f(n-2)\n",
        "    *   Орел, сценарий не подходит\n",
        "\n",
        "$f(n) = 0.5 \\cdot f(n-1)+0.5 \\cdot 0.5 \\cdot f(n-2)$\n",
        "\n",
        "$f(2) = 3/4$\n",
        "\n",
        "$f(3) = 5/8$\n",
        "\n",
        "$f(4) = 1/2 \\cdot 5/8 + 1/4 \\cdot 3/4 = 8/16$\n",
        "\n",
        "Можно искать $f(n)$ в виде $\\frac{g(n)}{2^n}$\n",
        "\n",
        "$g(n) = g(n-1) + g(n-2)$, тогда $f(n) = \\frac{F(n+1)}{2^n} + \\frac{F(n)}{2^n} = \\frac{F(n+2)}{2^n}$\n",
        "\n",
        "$f(2) = 3/4 = \\frac{F(4)}{2^n}$\n",
        "\n",
        "$f(3) = 5/8 = \\frac{F(5)}{2^n}$\n",
        "\n",
        "$f(4) = 1/2 \\cdot 5/8 + 1/4 \\cdot 3/4 = 8/16 = \\frac{F(6)}{2^n}$"
      ]
    },
    {
      "cell_type": "markdown",
      "metadata": {
        "id": "-zIPzfH8jGd0"
      },
      "source": [
        "**Задача 7.** На практике, часто приходится оценивать вероятности тех или иных событий. Точная вероятность в таких случаях не важна, однако важно умение оценивать её. В этой задаче вам предлагается оценить вероятности следующих событий.\n",
        "\n",
        "1.  Метеорит падает равновероятно в любую точку планеты. Какая вероятность того, что он упадет на сушу? А на Австралию?\n",
        "2.  Какая вероятность встретить в Киеве человека, который говорит по Английски и по Французки?\n",
        "\n",
        "**[подсказка]** Оцените количественно площадь земли и материков. Количество людей в Киеве и все такое. В своих оценнках ссылаясь на источники - прикрепляйте ссылки на них.   \n",
        "\n",
        "Решение каждого примера оценивается в [2 бала].\n",
        "\n",
        "У этих задач нет правильных решений, оцениваться будет глубина мысли и оригинальность подхода к её решению. 😎   \n"
      ]
    },
    {
      "cell_type": "markdown",
      "metadata": {
        "id": "jIQLuPbEkDuF"
      },
      "source": [
        "**your solution**"
      ]
    },
    {
      "cell_type": "markdown",
      "metadata": {
        "id": "fEnM8Ol1aHPH"
      },
      "source": [
        "**Задача 8.** ```x``` - случайная величина из [нормального](https://ru.wikipedia.org/wiki/%D0%9D%D0%BE%D1%80%D0%BC%D0%B0%D0%BB%D1%8C%D0%BD%D0%BE%D0%B5_%D1%80%D0%B0%D1%81%D0%BF%D1%80%D0%B5%D0%B4%D0%B5%D0%BB%D0%B5%D0%BD%D0%B8%D0%B5) распределенная c мат. ожиданием ```0``` и стандартным отклонением равным ```1```. $x - N(0, 1)$. Возьмем ```n``` реализаций этой случайной величины. Очевидно, что с ростом ```n```, [среднее значение](https://ru.wikipedia.org/wiki/%D0%A1%D1%82%D0%B0%D1%82%D0%B8%D1%81%D1%82%D0%B8%D0%BA%D0%B0_(%D1%84%D1%83%D0%BD%D0%BA%D1%86%D0%B8%D1%8F_%D0%B2%D1%8B%D0%B1%D0%BE%D1%80%D0%BA%D0%B8)) выборки стремится к заданному [математическому ожиданию](https://ru.wikipedia.org/wiki/%D0%9C%D0%B0%D1%82%D0%B5%D0%BC%D0%B0%D1%82%D0%B8%D1%87%D0%B5%D1%81%D0%BA%D0%BE%D0%B5_%D0%BE%D0%B6%D0%B8%D0%B4%D0%B0%D0%BD%D0%B8%D0%B5). Однако возникает вопрос: \"как быстро оно это делает?\". Постройте график зависимости среднего значения выборки от её размера. C какого ```n``` отклонение среднего значения от математического ожидания становится меньше ```0.001```?\n",
        "\n",
        "\n",
        "**[подсказка]** Для экспериментов воспользуйтесь [сэмплером](https://numpy.org/doc/stable/reference/random/generated/numpy.random.normal.html) из ```numpy```.\n",
        "\n",
        "\n",
        "Решение оценивается в [2 бала]."
      ]
    },
    {
      "cell_type": "code",
      "metadata": {
        "id": "zLYkvuqnaIrC"
      },
      "source": [
        "# code"
      ],
      "execution_count": null,
      "outputs": []
    },
    {
      "cell_type": "markdown",
      "metadata": {
        "id": "8u_oayqIaHxD"
      },
      "source": [
        "**your solution**"
      ]
    },
    {
      "cell_type": "markdown",
      "metadata": {
        "id": "CLwMgq7epqfY"
      },
      "source": [
        "**Задача 9.** ```a``` - реализация случайной величины из [равновероятного распределения](https://studme.org/232670/matematika_himiya_fizik/ravnoveroyatnoe_raspredelenie#:~:text=%D0%9F%D1%80%D0%BE%D1%81%D1%82%D0%B5%D0%B9%D1%88%D0%B8%D0%BC%20%D1%80%D0%B0%D1%81%D0%BF%D1%80%D0%B5%D0%B4%D0%B5%D0%BB%D0%B5%D0%BD%D0%B8%D0%B5%D0%BC%20%D0%B4%D0%BB%D1%8F%20%D0%BD%D0%B5%D0%BF%D1%80%D0%B5%D1%80%D1%8B%D0%B2%D0%BD%D0%BE%D0%B9%20%D1%81%D0%BB%D1%83%D1%87%D0%B0%D0%B9%D0%BD%D0%BE%D0%B9,%D0%BC%D0%BE%D0%B6%D0%B5%D1%82%20%D0%BF%D1%80%D0%B8%D0%BD%D1%8F%D1%82%D1%8C%20%D0%BD%D0%B8%D0%BA%D0%B0%D0%BA%D0%BE%D0%B3%D0%BE%20%D0%B4%D1%80%D1%83%D0%B3%D0%BE%D0%B3%D0%BE%20%D0%B7%D0%BD%D0%B0%D1%87%D0%B5%D0%BD%D0%B8%D1%8F.) - $U[0, 2]$. ```b``` - реализация случайной величины из [равновероятного распределения](https://studme.org/232670/matematika_himiya_fizik/ravnoveroyatnoe_raspredelenie#:~:text=%D0%9F%D1%80%D0%BE%D1%81%D1%82%D0%B5%D0%B9%D1%88%D0%B8%D0%BC%20%D1%80%D0%B0%D1%81%D0%BF%D1%80%D0%B5%D0%B4%D0%B5%D0%BB%D0%B5%D0%BD%D0%B8%D0%B5%D0%BC%20%D0%B4%D0%BB%D1%8F%20%D0%BD%D0%B5%D0%BF%D1%80%D0%B5%D1%80%D1%8B%D0%B2%D0%BD%D0%BE%D0%B9%20%D1%81%D0%BB%D1%83%D1%87%D0%B0%D0%B9%D0%BD%D0%BE%D0%B9,%D0%BC%D0%BE%D0%B6%D0%B5%D1%82%20%D0%BF%D1%80%D0%B8%D0%BD%D1%8F%D1%82%D1%8C%20%D0%BD%D0%B8%D0%BA%D0%B0%D0%BA%D0%BE%D0%B3%D0%BE%20%D0%B4%D1%80%D1%83%D0%B3%D0%BE%D0%B3%D0%BE%20%D0%B7%D0%BD%D0%B0%D1%87%D0%B5%D0%BD%D0%B8%D1%8F.) - $U[1, 3]$.\n",
        "Их перемешали между собой и получили массив реализаций новой случайно величины - ```c``` из случайного распределения $\\chi$. Постройте распределение случайной величины ```c```. Найдите её [среднее значение](https://ru.wikipedia.org/wiki/%D0%A1%D1%82%D0%B0%D1%82%D0%B8%D1%81%D1%82%D0%B8%D0%BA%D0%B0_(%D1%84%D1%83%D0%BD%D0%BA%D1%86%D0%B8%D1%8F_%D0%B2%D1%8B%D0%B1%D0%BE%D1%80%D0%BA%D0%B8)). Определите вид распределения $\\chi$, а также выведите знечение [математического ожидания](https://ru.wikipedia.org/wiki/%D0%9C%D0%B0%D1%82%D0%B5%D0%BC%D0%B0%D1%82%D0%B8%D1%87%D0%B5%D1%81%D0%BA%D0%BE%D0%B5_%D0%BE%D0%B6%D0%B8%D0%B4%D0%B0%D0%BD%D0%B8%D0%B5) этой случайной величины.\n",
        "\n",
        "\n",
        "\n",
        "**[подсказка]** Определить вид случайного распределния, значит выписать формулу [плотности](https://ru.wikipedia.org/wiki/%D0%9F%D0%BB%D0%BE%D1%82%D0%BD%D0%BE%D1%81%D1%82%D1%8C_%D0%B2%D0%B5%D1%80%D0%BE%D1%8F%D1%82%D0%BD%D0%BE%D1%81%D1%82%D0%B8) этого распределения.\n",
        "\n",
        "Решение оценивается в [2 бала]."
      ]
    },
    {
      "cell_type": "code",
      "metadata": {
        "id": "dIKSdLceVV9p"
      },
      "source": [
        "import numpy as np\n",
        "\n",
        "size = 10**5\n",
        "a = np.random.uniform(low=0, high=2.0, size=100000)\n",
        "b = np.random.uniform(low=1., high=3.0, size=100000)\n",
        "c = np.concatenate([a, b])\n",
        "np.random.shuffle(c)"
      ],
      "execution_count": null,
      "outputs": []
    },
    {
      "cell_type": "code",
      "metadata": {
        "id": "CHSn6NzoZfP8"
      },
      "source": [
        "# code"
      ],
      "execution_count": null,
      "outputs": []
    },
    {
      "cell_type": "markdown",
      "metadata": {
        "id": "DUT_EC3KpqoI"
      },
      "source": [
        "**your solution**"
      ]
    },
    {
      "cell_type": "markdown",
      "metadata": {
        "id": "vallNWSKg3yf"
      },
      "source": [
        "**Задача 10.** Вам заданно квадратное уравнение $x^2 - ax + 1 = 0$, где $a$ - это случайная величина из  [равновероятного распределения](https://studme.org/232670/matematika_himiya_fizik/ravnoveroyatnoe_raspredelenie#:~:text=%D0%9F%D1%80%D0%BE%D1%81%D1%82%D0%B5%D0%B9%D1%88%D0%B8%D0%BC%20%D1%80%D0%B0%D1%81%D0%BF%D1%80%D0%B5%D0%B4%D0%B5%D0%BB%D0%B5%D0%BD%D0%B8%D0%B5%D0%BC%20%D0%B4%D0%BB%D1%8F%20%D0%BD%D0%B5%D0%BF%D1%80%D0%B5%D1%80%D1%8B%D0%B2%D0%BD%D0%BE%D0%B9%20%D1%81%D0%BB%D1%83%D1%87%D0%B0%D0%B9%D0%BD%D0%BE%D0%B9,%D0%BC%D0%BE%D0%B6%D0%B5%D1%82%20%D0%BF%D1%80%D0%B8%D0%BD%D1%8F%D1%82%D1%8C%20%D0%BD%D0%B8%D0%BA%D0%B0%D0%BA%D0%BE%D0%B3%D0%BE%20%D0%B4%D1%80%D1%83%D0%B3%D0%BE%D0%B3%D0%BE%20%D0%B7%D0%BD%D0%B0%D1%87%D0%B5%D0%BD%D0%B8%D1%8F.) - $U[2, 4]$. Соответственно, решения этого [квадратного уравнения](https://ru.wikipedia.org/wiki/%D0%9A%D0%B2%D0%B0%D0%B4%D1%80%D0%B0%D1%82%D0%BD%D0%BE%D0%B5_%D1%83%D1%80%D0%B0%D0%B2%D0%BD%D0%B5%D0%BD%D0%B8%D0%B5) - $x_1, x_2$, также будут случайными величинами из каких-то распределений $\\chi_1$ и $\\chi_2$. Постройте **два** графика распределений случайных величин $x_1, x_2$. Где $x_1$ - меньший из 2-х корней, а $x_2$ - больший. **Третим** постройте график распределения [дискриминанта](https://ru.wikipedia.org/wiki/%D0%94%D0%B8%D1%81%D0%BA%D1%80%D0%B8%D0%BC%D0%B8%D0%BD%D0%B0%D0%BD%D1%82). Он, тоже является случайной величиной.\n",
        "\n",
        "Решение оценивается в [3 бала]."
      ]
    },
    {
      "cell_type": "code",
      "metadata": {
        "id": "nEhw1OXYllp4"
      },
      "source": [
        "# code"
      ],
      "execution_count": null,
      "outputs": []
    },
    {
      "cell_type": "markdown",
      "metadata": {
        "id": "j0aGnPCpn6pL"
      },
      "source": [
        "**Задача 11.** Современная генерация данных, может 😎делать [восхитительные вещи](https://texterra.ru/blog/neyrosetey-dlya-sozdaniya-i-obrabotki-izobrazheniy.html)! Однако она не была бы возможна без базовых основ в генерации распределений. В этой задаче вам предлагается реализовать семплер [бимодального](http://sixsigmaonline.ru/baza-znanij/22-1-0-496) распределеня. На вход функция принимает ```2``` числа: ```m_one```, ```m_two``` - пики распределения и ```size``` - размер генерируемой выборки. Вернуть она должна ```numpy``` масив длины ```size```.\n",
        "\n",
        "**[подсказка]** Для генерации случайных величин воспользуйтесь стандартными [семплерами из numpy](https://numpy.org/doc/stable/reference/random/index.html), а дальше, каким-то образом, преобразуйте полученные выборки. Если у Вас совсем нет идей для решения этой задачи - почитайте вот [это](http://sixsigmaonline.ru/baza-znanij/22-1-0-500) 🆘.  \n",
        "\n",
        "\n",
        "Решение оценивается в [2 бала]."
      ]
    },
    {
      "cell_type": "code",
      "metadata": {
        "id": "J5I3qq9Qn-O2"
      },
      "source": [
        "import numpy as np\n",
        "\n",
        "def get_bimodal_distribution(m_one: float, m_two: float, size: int) -> np.ndarray:\n",
        "  # code\n",
        "  return /* numpy array */"
      ],
      "execution_count": null,
      "outputs": []
    },
    {
      "cell_type": "code",
      "metadata": {
        "id": "Gu8P9xT7o2lc",
        "colab": {
          "base_uri": "https://localhost:8080/",
          "height": 282
        },
        "outputId": "26efa1ee-0247-4e96-dedf-8c4ac665f4af"
      },
      "source": [
        "# Пример работы функции.\n",
        "\n",
        "c1 = get_bimodal_distribution(m_one=-1., m_two=1., size=10**5)\n",
        "c2 = get_bimodal_distribution(m_one=1., m_two=3., size=10**3)\n",
        "c3 = get_bimodal_distribution(m_one=-50., m_two=10., size=10**4)\n",
        "\n",
        "plt.rcParams['figure.figsize'] = (18, 4)\n",
        "fig, ax = plt.subplots(1, 3)\n",
        "\n",
        "ax[0].hist(c1, bins=100, density=True, color='blue', alpha=0.7)\n",
        "ax[0].axvline(x=-1, color='red', lw=0.7)\n",
        "ax[0].axvline(x=1, color='red', lw=0.7)\n",
        "ax[0].set_title(f'$\\mu_1 = ${-1}, $\\mu_2 = ${1}')\n",
        "\n",
        "ax[1].hist(c2, bins=100, density=True, color='blue', alpha=0.7)\n",
        "ax[1].axvline(x=1, color='red', lw=0.7)\n",
        "ax[1].axvline(x=3, color='red', lw=0.7)\n",
        "ax[1].set_title(f'$\\mu_1 = ${1}, $\\mu_2 = ${3}')\n",
        "\n",
        "ax[2].hist(c3, bins=100, density=True, color='blue', alpha=0.7)\n",
        "ax[2].axvline(x=-50, color='red', lw=0.7)\n",
        "ax[2].axvline(x=10, color='red', lw=0.7)\n",
        "ax[2].set_title(f'$\\mu_1 = ${-50}, $\\mu_2 = ${10}')\n",
        "\n",
        "plt.show()"
      ],
      "execution_count": null,
      "outputs": [
        {
          "output_type": "display_data",
          "data": {
            "image/png": "[encoded data removed]",
            "text/plain": [
              "<Figure size 1296x288 with 3 Axes>"
            ]
          },
          "metadata": {
            "tags": [],
            "needs_background": "light"
          }
        }
      ]
    }
  ]
}